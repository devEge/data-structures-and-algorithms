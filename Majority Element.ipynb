{
 "cells": [
  {
   "cell_type": "markdown",
   "id": "d4d0f975",
   "metadata": {},
   "source": [
    "![Question3](images/question3.png)"
   ]
  },
  {
   "cell_type": "code",
   "execution_count": 1,
   "id": "38b602ad",
   "metadata": {},
   "outputs": [],
   "source": [
    "myList = [2,3,4,1,1,1,1,1,5]"
   ]
  },
  {
   "cell_type": "code",
   "execution_count": 2,
   "id": "693a4dc0",
   "metadata": {},
   "outputs": [],
   "source": [
    "def findMajority():\n",
    "    numbers = {}\n",
    "    result = 0\n",
    "    maxNumber = 0\n",
    "    \n",
    "    for num in myList:\n",
    "        numbers[num] = 1 + numbers.get(num,0)\n",
    "        if numbers[num] > maxNumber:\n",
    "            result = num\n",
    "        maxNumber = max(maxNumber, numbers[num])\n",
    "    return result"
   ]
  },
  {
   "cell_type": "code",
   "execution_count": 3,
   "id": "c6aa2c8a",
   "metadata": {},
   "outputs": [
    {
     "data": {
      "text/plain": [
       "1"
      ]
     },
     "execution_count": 3,
     "metadata": {},
     "output_type": "execute_result"
    }
   ],
   "source": [
    "findMajority()"
   ]
  },
  {
   "cell_type": "code",
   "execution_count": 4,
   "id": "a27a67b4",
   "metadata": {},
   "outputs": [],
   "source": [
    "#Boyer Moore Algorithm"
   ]
  },
  {
   "cell_type": "code",
   "execution_count": 5,
   "id": "b3d3d1d5",
   "metadata": {},
   "outputs": [],
   "source": [
    "mySecondList = [2,2,1,1,1,2,2]"
   ]
  },
  {
   "cell_type": "code",
   "execution_count": 6,
   "id": "3d3d3164",
   "metadata": {},
   "outputs": [],
   "source": [
    "def boyerMoore():\n",
    "    result = 0\n",
    "    count = 0\n",
    "    \n",
    "    for num in mySecondList:\n",
    "        if count == 0:\n",
    "            result = num\n",
    "        count += 1 if num == result else -1\n",
    "    return result"
   ]
  },
  {
   "cell_type": "code",
   "execution_count": 7,
   "id": "ac8e54fc",
   "metadata": {},
   "outputs": [
    {
     "data": {
      "text/plain": [
       "2"
      ]
     },
     "execution_count": 7,
     "metadata": {},
     "output_type": "execute_result"
    }
   ],
   "source": [
    "boyerMoore()"
   ]
  },
  {
   "cell_type": "code",
   "execution_count": null,
   "id": "74429f0a",
   "metadata": {},
   "outputs": [],
   "source": []
  }
 ],
 "metadata": {
  "kernelspec": {
   "display_name": "Python 3 (ipykernel)",
   "language": "python",
   "name": "python3"
  },
  "language_info": {
   "codemirror_mode": {
    "name": "ipython",
    "version": 3
   },
   "file_extension": ".py",
   "mimetype": "text/x-python",
   "name": "python",
   "nbconvert_exporter": "python",
   "pygments_lexer": "ipython3",
   "version": "3.11.5"
  }
 },
 "nbformat": 4,
 "nbformat_minor": 5
}
