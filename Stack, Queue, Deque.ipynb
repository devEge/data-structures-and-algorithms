{
 "cells": [
  {
   "cell_type": "code",
   "execution_count": 1,
   "id": "d400ec7a",
   "metadata": {},
   "outputs": [],
   "source": [
    "myList = []"
   ]
  },
  {
   "cell_type": "code",
   "execution_count": 2,
   "id": "743aea60",
   "metadata": {},
   "outputs": [],
   "source": [
    "myList.append(1)\n",
    "myList.append(2)"
   ]
  },
  {
   "cell_type": "code",
   "execution_count": 3,
   "id": "cef6c30c",
   "metadata": {},
   "outputs": [
    {
     "data": {
      "text/plain": [
       "[1, 2]"
      ]
     },
     "execution_count": 3,
     "metadata": {},
     "output_type": "execute_result"
    }
   ],
   "source": [
    "myList"
   ]
  },
  {
   "cell_type": "code",
   "execution_count": 4,
   "id": "09748bc5",
   "metadata": {},
   "outputs": [],
   "source": [
    "myList.append(3)"
   ]
  },
  {
   "cell_type": "code",
   "execution_count": 5,
   "id": "ab64be7e",
   "metadata": {},
   "outputs": [
    {
     "data": {
      "text/plain": [
       "3"
      ]
     },
     "execution_count": 5,
     "metadata": {},
     "output_type": "execute_result"
    }
   ],
   "source": [
    "myList.pop()"
   ]
  },
  {
   "cell_type": "code",
   "execution_count": 6,
   "id": "da03ef8b",
   "metadata": {},
   "outputs": [
    {
     "data": {
      "text/plain": [
       "[1, 2]"
      ]
     },
     "execution_count": 6,
     "metadata": {},
     "output_type": "execute_result"
    }
   ],
   "source": [
    "myList"
   ]
  },
  {
   "cell_type": "code",
   "execution_count": 7,
   "id": "d2175530",
   "metadata": {},
   "outputs": [
    {
     "data": {
      "text/plain": [
       "list"
      ]
     },
     "execution_count": 7,
     "metadata": {},
     "output_type": "execute_result"
    }
   ],
   "source": [
    "type(myList)"
   ]
  },
  {
   "cell_type": "code",
   "execution_count": 8,
   "id": "1198f6ce",
   "metadata": {},
   "outputs": [],
   "source": [
    "from queue import LifoQueue "
   ]
  },
  {
   "cell_type": "code",
   "execution_count": 9,
   "id": "d5cdcbd3",
   "metadata": {},
   "outputs": [],
   "source": [
    "lifoQueue = LifoQueue()"
   ]
  },
  {
   "cell_type": "code",
   "execution_count": 10,
   "id": "98e26d6f",
   "metadata": {},
   "outputs": [],
   "source": [
    "lifoQueue.put(1)"
   ]
  },
  {
   "cell_type": "code",
   "execution_count": 11,
   "id": "7f1eeeff",
   "metadata": {},
   "outputs": [],
   "source": [
    "lifoQueue.put(10)"
   ]
  },
  {
   "cell_type": "code",
   "execution_count": 12,
   "id": "995b6417",
   "metadata": {},
   "outputs": [],
   "source": [
    "lifoQueue.put(20)"
   ]
  },
  {
   "cell_type": "code",
   "execution_count": 13,
   "id": "f5665d5a",
   "metadata": {},
   "outputs": [
    {
     "data": {
      "text/plain": [
       "<queue.LifoQueue at 0x1d204638990>"
      ]
     },
     "execution_count": 13,
     "metadata": {},
     "output_type": "execute_result"
    }
   ],
   "source": [
    "lifoQueue"
   ]
  },
  {
   "cell_type": "code",
   "execution_count": 14,
   "id": "43ee2313",
   "metadata": {},
   "outputs": [
    {
     "data": {
      "text/plain": [
       "20"
      ]
     },
     "execution_count": 14,
     "metadata": {},
     "output_type": "execute_result"
    }
   ],
   "source": [
    "lifoQueue.get()"
   ]
  },
  {
   "cell_type": "code",
   "execution_count": 15,
   "id": "f1b1702f",
   "metadata": {},
   "outputs": [
    {
     "data": {
      "text/plain": [
       "10"
      ]
     },
     "execution_count": 15,
     "metadata": {},
     "output_type": "execute_result"
    }
   ],
   "source": [
    "lifoQueue.get()"
   ]
  },
  {
   "cell_type": "code",
   "execution_count": 16,
   "id": "f54c0e69",
   "metadata": {},
   "outputs": [
    {
     "data": {
      "text/plain": [
       "1"
      ]
     },
     "execution_count": 16,
     "metadata": {},
     "output_type": "execute_result"
    }
   ],
   "source": [
    "lifoQueue.get()"
   ]
  },
  {
   "cell_type": "code",
   "execution_count": 17,
   "id": "df388504",
   "metadata": {},
   "outputs": [],
   "source": [
    "from queue import Queue"
   ]
  },
  {
   "cell_type": "code",
   "execution_count": 18,
   "id": "059f1d4e",
   "metadata": {},
   "outputs": [],
   "source": [
    "myQueue = Queue()"
   ]
  },
  {
   "cell_type": "code",
   "execution_count": 19,
   "id": "7fc897ce",
   "metadata": {},
   "outputs": [],
   "source": [
    "myQueue.put(1)"
   ]
  },
  {
   "cell_type": "code",
   "execution_count": 20,
   "id": "915a3b6f",
   "metadata": {},
   "outputs": [],
   "source": [
    "myQueue.put(10)"
   ]
  },
  {
   "cell_type": "code",
   "execution_count": 21,
   "id": "04a7fcfd",
   "metadata": {},
   "outputs": [],
   "source": [
    "myQueue.put(20)"
   ]
  },
  {
   "cell_type": "code",
   "execution_count": 22,
   "id": "8cb993da",
   "metadata": {},
   "outputs": [
    {
     "data": {
      "text/plain": [
       "1"
      ]
     },
     "execution_count": 22,
     "metadata": {},
     "output_type": "execute_result"
    }
   ],
   "source": [
    "myQueue.get()"
   ]
  },
  {
   "cell_type": "code",
   "execution_count": 23,
   "id": "ddb11fd6",
   "metadata": {},
   "outputs": [
    {
     "data": {
      "text/plain": [
       "10"
      ]
     },
     "execution_count": 23,
     "metadata": {},
     "output_type": "execute_result"
    }
   ],
   "source": [
    "myQueue.get()"
   ]
  },
  {
   "cell_type": "code",
   "execution_count": 24,
   "id": "6e1e682d",
   "metadata": {},
   "outputs": [
    {
     "data": {
      "text/plain": [
       "20"
      ]
     },
     "execution_count": 24,
     "metadata": {},
     "output_type": "execute_result"
    }
   ],
   "source": [
    "myQueue.get()"
   ]
  },
  {
   "cell_type": "code",
   "execution_count": 25,
   "id": "cfa46664",
   "metadata": {},
   "outputs": [],
   "source": [
    "from collections import deque"
   ]
  },
  {
   "cell_type": "code",
   "execution_count": 26,
   "id": "b5877b2f",
   "metadata": {},
   "outputs": [],
   "source": [
    "myDeque = deque()"
   ]
  },
  {
   "cell_type": "code",
   "execution_count": 27,
   "id": "bddd6f22",
   "metadata": {},
   "outputs": [],
   "source": [
    "myDeque.append(10)"
   ]
  },
  {
   "cell_type": "code",
   "execution_count": 28,
   "id": "ec7ac888",
   "metadata": {},
   "outputs": [],
   "source": [
    "myDeque.append(20)"
   ]
  },
  {
   "cell_type": "code",
   "execution_count": 29,
   "id": "113b1e8a",
   "metadata": {},
   "outputs": [
    {
     "data": {
      "text/plain": [
       "deque([10, 20])"
      ]
     },
     "execution_count": 29,
     "metadata": {},
     "output_type": "execute_result"
    }
   ],
   "source": [
    "myDeque"
   ]
  },
  {
   "cell_type": "code",
   "execution_count": 30,
   "id": "8c79ca39",
   "metadata": {},
   "outputs": [],
   "source": [
    "myDeque.append(30)"
   ]
  },
  {
   "cell_type": "code",
   "execution_count": 31,
   "id": "cbae88e1",
   "metadata": {},
   "outputs": [
    {
     "data": {
      "text/plain": [
       "deque([10, 20, 30])"
      ]
     },
     "execution_count": 31,
     "metadata": {},
     "output_type": "execute_result"
    }
   ],
   "source": [
    "myDeque"
   ]
  },
  {
   "cell_type": "code",
   "execution_count": 32,
   "id": "8c072d85",
   "metadata": {},
   "outputs": [],
   "source": [
    "myDeque.appendleft(40)"
   ]
  },
  {
   "cell_type": "code",
   "execution_count": 33,
   "id": "8664053c",
   "metadata": {},
   "outputs": [
    {
     "data": {
      "text/plain": [
       "deque([40, 10, 20, 30])"
      ]
     },
     "execution_count": 33,
     "metadata": {},
     "output_type": "execute_result"
    }
   ],
   "source": [
    "myDeque"
   ]
  },
  {
   "cell_type": "code",
   "execution_count": 34,
   "id": "3b503cac",
   "metadata": {},
   "outputs": [
    {
     "data": {
      "text/plain": [
       "30"
      ]
     },
     "execution_count": 34,
     "metadata": {},
     "output_type": "execute_result"
    }
   ],
   "source": [
    "myDeque.pop()"
   ]
  },
  {
   "cell_type": "code",
   "execution_count": 35,
   "id": "ef3a7c0a",
   "metadata": {},
   "outputs": [
    {
     "data": {
      "text/plain": [
       "40"
      ]
     },
     "execution_count": 35,
     "metadata": {},
     "output_type": "execute_result"
    }
   ],
   "source": [
    "myDeque.popleft()"
   ]
  },
  {
   "cell_type": "code",
   "execution_count": null,
   "id": "0758bed4",
   "metadata": {},
   "outputs": [],
   "source": []
  }
 ],
 "metadata": {
  "kernelspec": {
   "display_name": "Python 3 (ipykernel)",
   "language": "python",
   "name": "python3"
  },
  "language_info": {
   "codemirror_mode": {
    "name": "ipython",
    "version": 3
   },
   "file_extension": ".py",
   "mimetype": "text/x-python",
   "name": "python",
   "nbconvert_exporter": "python",
   "pygments_lexer": "ipython3",
   "version": "3.11.5"
  }
 },
 "nbformat": 4,
 "nbformat_minor": 5
}
