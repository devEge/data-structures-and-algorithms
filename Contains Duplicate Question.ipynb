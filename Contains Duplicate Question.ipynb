{
 "cells": [
  {
   "cell_type": "markdown",
   "id": "d57d7b71",
   "metadata": {},
   "source": [
    "![Question 1](images/question1.png)"
   ]
  },
  {
   "cell_type": "code",
   "execution_count": 1,
   "id": "bac1fc16",
   "metadata": {},
   "outputs": [],
   "source": [
    "myList = [1,2,3,4,5,6]"
   ]
  },
  {
   "cell_type": "code",
   "execution_count": 2,
   "id": "58eae012",
   "metadata": {},
   "outputs": [
    {
     "name": "stdout",
     "output_type": "stream",
     "text": [
      "0 0\n",
      "0 1\n",
      "0 2\n",
      "0 3\n",
      "0 4\n",
      "0 5\n",
      "1 0\n",
      "1 1\n",
      "1 2\n",
      "1 3\n",
      "1 4\n",
      "1 5\n",
      "2 0\n",
      "2 1\n",
      "2 2\n",
      "2 3\n",
      "2 4\n",
      "2 5\n",
      "3 0\n",
      "3 1\n",
      "3 2\n",
      "3 3\n",
      "3 4\n",
      "3 5\n",
      "4 0\n",
      "4 1\n",
      "4 2\n",
      "4 3\n",
      "4 4\n",
      "4 5\n",
      "5 0\n",
      "5 1\n",
      "5 2\n",
      "5 3\n",
      "5 4\n",
      "5 5\n"
     ]
    }
   ],
   "source": [
    "for i in range(0, len(myList)):\n",
    "    for j in range(0, len(myList)):\n",
    "        print(i,j)"
   ]
  },
  {
   "cell_type": "code",
   "execution_count": 3,
   "id": "33281b6e",
   "metadata": {},
   "outputs": [],
   "source": [
    "#Time Complexity  => O(n²)\n",
    "#Space Complexity => O(1)"
   ]
  },
  {
   "cell_type": "code",
   "execution_count": 4,
   "id": "a765b638",
   "metadata": {},
   "outputs": [],
   "source": [
    "mySecondList = [1,2,3,4,5,6,7,8]"
   ]
  },
  {
   "cell_type": "code",
   "execution_count": 6,
   "id": "1e96a8e4",
   "metadata": {},
   "outputs": [],
   "source": [
    "def solution(List):\n",
    "    hashSet = set()\n",
    "    for num in List:\n",
    "        if num in hashSet:\n",
    "            return True;\n",
    "        hashSet.add(num)\n",
    "    return False"
   ]
  },
  {
   "cell_type": "code",
   "execution_count": 7,
   "id": "29bf5246",
   "metadata": {},
   "outputs": [
    {
     "data": {
      "text/plain": [
       "False"
      ]
     },
     "execution_count": 7,
     "metadata": {},
     "output_type": "execute_result"
    }
   ],
   "source": [
    "solution(mySecondList)"
   ]
  },
  {
   "cell_type": "code",
   "execution_count": 8,
   "id": "0194e5d9",
   "metadata": {},
   "outputs": [],
   "source": [
    "mySecondList.append(2)"
   ]
  },
  {
   "cell_type": "code",
   "execution_count": 9,
   "id": "cdf9e1b1",
   "metadata": {},
   "outputs": [
    {
     "data": {
      "text/plain": [
       "True"
      ]
     },
     "execution_count": 9,
     "metadata": {},
     "output_type": "execute_result"
    }
   ],
   "source": [
    "solution(mySecondList)"
   ]
  },
  {
   "cell_type": "code",
   "execution_count": 10,
   "id": "d0680950",
   "metadata": {},
   "outputs": [],
   "source": [
    "#Time Complexity  => O(n)\n",
    "#Space Complexity => O(n)"
   ]
  },
  {
   "cell_type": "code",
   "execution_count": 12,
   "id": "77515854",
   "metadata": {},
   "outputs": [],
   "source": [
    "def solution2(List):\n",
    "    return len(List) != len(set(List))"
   ]
  },
  {
   "cell_type": "code",
   "execution_count": 13,
   "id": "d8234d19",
   "metadata": {},
   "outputs": [
    {
     "data": {
      "text/plain": [
       "True"
      ]
     },
     "execution_count": 13,
     "metadata": {},
     "output_type": "execute_result"
    }
   ],
   "source": [
    "solution2(mySecondList)"
   ]
  },
  {
   "cell_type": "code",
   "execution_count": 15,
   "id": "da52dcf6",
   "metadata": {},
   "outputs": [
    {
     "data": {
      "text/plain": [
       "False"
      ]
     },
     "execution_count": 15,
     "metadata": {},
     "output_type": "execute_result"
    }
   ],
   "source": [
    "solution2(myList)"
   ]
  },
  {
   "cell_type": "code",
   "execution_count": null,
   "id": "1e075b63",
   "metadata": {},
   "outputs": [],
   "source": []
  }
 ],
 "metadata": {
  "kernelspec": {
   "display_name": "Python 3 (ipykernel)",
   "language": "python",
   "name": "python3"
  },
  "language_info": {
   "codemirror_mode": {
    "name": "ipython",
    "version": 3
   },
   "file_extension": ".py",
   "mimetype": "text/x-python",
   "name": "python",
   "nbconvert_exporter": "python",
   "pygments_lexer": "ipython3",
   "version": "3.11.5"
  }
 },
 "nbformat": 4,
 "nbformat_minor": 5
}
