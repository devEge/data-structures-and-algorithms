{
 "cells": [
  {
   "cell_type": "code",
   "execution_count": 1,
   "id": "9136419b",
   "metadata": {},
   "outputs": [],
   "source": [
    "# Array, List, Stack, Queue, Deque"
   ]
  },
  {
   "cell_type": "code",
   "execution_count": 2,
   "id": "74d51c99",
   "metadata": {},
   "outputs": [],
   "source": [
    "#List\n",
    "myList = [1,2,3,4,5]"
   ]
  },
  {
   "cell_type": "code",
   "execution_count": 3,
   "id": "6d8d0fc9",
   "metadata": {},
   "outputs": [
    {
     "data": {
      "text/plain": [
       "list"
      ]
     },
     "execution_count": 3,
     "metadata": {},
     "output_type": "execute_result"
    }
   ],
   "source": [
    "type(myListt)"
   ]
  },
  {
   "cell_type": "code",
   "execution_count": 4,
   "id": "db2c0451",
   "metadata": {},
   "outputs": [],
   "source": [
    "myList.append(1)"
   ]
  },
  {
   "cell_type": "code",
   "execution_count": 5,
   "id": "831a1cc1",
   "metadata": {},
   "outputs": [
    {
     "name": "stdout",
     "output_type": "stream",
     "text": [
      "[1, 2, 3, 4, 5, 1]\n"
     ]
    }
   ],
   "source": [
    "print(myList)"
   ]
  },
  {
   "cell_type": "code",
   "execution_count": 6,
   "id": "58fee82d",
   "metadata": {},
   "outputs": [],
   "source": [
    "import array as arr"
   ]
  },
  {
   "cell_type": "code",
   "execution_count": 7,
   "id": "c8e184c3",
   "metadata": {},
   "outputs": [],
   "source": [
    "myArray = arr.array(\"i\",[3, 6, 9, 12])"
   ]
  },
  {
   "cell_type": "code",
   "execution_count": 8,
   "id": "019889c7",
   "metadata": {},
   "outputs": [],
   "source": [
    "myArray.append(15)"
   ]
  },
  {
   "cell_type": "code",
   "execution_count": 9,
   "id": "2e5ead3a",
   "metadata": {},
   "outputs": [
    {
     "data": {
      "text/plain": [
       "array('i', [3, 6, 9, 12, 15])"
      ]
     },
     "execution_count": 9,
     "metadata": {},
     "output_type": "execute_result"
    }
   ],
   "source": [
    "myArray"
   ]
  },
  {
   "cell_type": "code",
   "execution_count": 1,
   "id": "860429ec",
   "metadata": {},
   "outputs": [],
   "source": [
    "myList = [1,2,3,4,5]"
   ]
  },
  {
   "cell_type": "code",
   "execution_count": 2,
   "id": "5d46fcd6",
   "metadata": {},
   "outputs": [],
   "source": [
    "otherList = [6,7,8]"
   ]
  },
  {
   "cell_type": "code",
   "execution_count": 3,
   "id": "dc7ff585",
   "metadata": {},
   "outputs": [],
   "source": [
    "result = [0] * 8"
   ]
  },
  {
   "cell_type": "code",
   "execution_count": 5,
   "id": "0123aae9",
   "metadata": {},
   "outputs": [],
   "source": [
    "#Verimsiz bir yöntem değildir, RAM üzerinde bir yerde '0' değeri tutulur. \n",
    "#Liste için ayrılan 8 bölmede 0'ın RAM üzerinde bulunduğu yerin referansını tutar."
   ]
  },
  {
   "cell_type": "markdown",
   "id": "8e31ea7c",
   "metadata": {},
   "source": [
    "![gorsel1](images/ram1.png)"
   ]
  },
  {
   "cell_type": "code",
   "execution_count": 6,
   "id": "c86907e4",
   "metadata": {},
   "outputs": [
    {
     "data": {
      "text/plain": [
       "[0, 0, 0, 0, 0, 0, 0, 0]"
      ]
     },
     "execution_count": 6,
     "metadata": {},
     "output_type": "execute_result"
    }
   ],
   "source": [
    "result"
   ]
  },
  {
   "cell_type": "code",
   "execution_count": 7,
   "id": "f19a28ee",
   "metadata": {},
   "outputs": [
    {
     "data": {
      "text/plain": [
       "list"
      ]
     },
     "execution_count": 7,
     "metadata": {},
     "output_type": "execute_result"
    }
   ],
   "source": [
    "type(result)"
   ]
  },
  {
   "cell_type": "code",
   "execution_count": 8,
   "id": "d8866848",
   "metadata": {},
   "outputs": [],
   "source": [
    "result[3] = 2"
   ]
  },
  {
   "cell_type": "code",
   "execution_count": 9,
   "id": "ec10f528",
   "metadata": {},
   "outputs": [
    {
     "data": {
      "text/plain": [
       "[0, 0, 0, 2, 0, 0, 0, 0]"
      ]
     },
     "execution_count": 9,
     "metadata": {},
     "output_type": "execute_result"
    }
   ],
   "source": []
  },
  {
   "cell_type": "markdown",
   "id": "0cdffabe",
   "metadata": {},
   "source": [
    "![gorsel1](images/ram2.png)"
   ]
  },
  {
   "cell_type": "code",
   "execution_count": 1,
   "id": "6b59601a",
   "metadata": {},
   "outputs": [],
   "source": [
    "import sys"
   ]
  },
  {
   "cell_type": "code",
   "execution_count": 2,
   "id": "351fc2ef",
   "metadata": {},
   "outputs": [],
   "source": [
    "n = 0"
   ]
  },
  {
   "cell_type": "code",
   "execution_count": 3,
   "id": "eb6bf55c",
   "metadata": {},
   "outputs": [],
   "source": [
    "myDynamicArray = []"
   ]
  },
  {
   "cell_type": "code",
   "execution_count": 5,
   "id": "5a26e1f0",
   "metadata": {},
   "outputs": [
    {
     "name": "stdout",
     "output_type": "stream",
     "text": [
      "Length: 15 Byte: 184\n",
      "Length: 16 Byte: 184\n",
      "Length: 17 Byte: 248\n",
      "Length: 18 Byte: 248\n",
      "Length: 19 Byte: 248\n",
      "Length: 20 Byte: 248\n",
      "Length: 21 Byte: 248\n",
      "Length: 22 Byte: 248\n",
      "Length: 23 Byte: 248\n",
      "Length: 24 Byte: 248\n",
      "Length: 25 Byte: 312\n",
      "Length: 26 Byte: 312\n",
      "Length: 27 Byte: 312\n",
      "Length: 28 Byte: 312\n",
      "Length: 29 Byte: 312\n",
      "Length: 30 Byte: 312\n",
      "Length: 31 Byte: 312\n",
      "Length: 32 Byte: 312\n",
      "Length: 33 Byte: 376\n",
      "Length: 34 Byte: 376\n",
      "Length: 35 Byte: 376\n",
      "Length: 36 Byte: 376\n",
      "Length: 37 Byte: 376\n",
      "Length: 38 Byte: 376\n",
      "Length: 39 Byte: 376\n",
      "Length: 40 Byte: 376\n",
      "Length: 41 Byte: 472\n",
      "Length: 42 Byte: 472\n",
      "Length: 43 Byte: 472\n",
      "Length: 44 Byte: 472\n"
     ]
    }
   ],
   "source": [
    "n = 30\n",
    "for i in range(n):\n",
    "    myLength = len(myDynamicArray)\n",
    "    myByte = sys.getsizeof(myDynamicArray)\n",
    "    print(f\"Length: {myLength} Byte: {myByte}\")\n",
    "    myDynamicArray.append(n)"
   ]
  },
  {
   "cell_type": "code",
   "execution_count": null,
   "id": "669a9252",
   "metadata": {},
   "outputs": [],
   "source": []
  }
 ],
 "metadata": {
  "kernelspec": {
   "display_name": "Python 3 (ipykernel)",
   "language": "python",
   "name": "python3"
  },
  "language_info": {
   "codemirror_mode": {
    "name": "ipython",
    "version": 3
   },
   "file_extension": ".py",
   "mimetype": "text/x-python",
   "name": "python",
   "nbconvert_exporter": "python",
   "pygments_lexer": "ipython3",
   "version": "3.11.5"
  }
 },
 "nbformat": 4,
 "nbformat_minor": 5
}
