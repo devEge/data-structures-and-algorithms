{
 "cells": [
  {
   "cell_type": "markdown",
   "id": "a740a5a0",
   "metadata": {},
   "source": [
    "![Question 2](images/question2.png)"
   ]
  },
  {
   "cell_type": "code",
   "execution_count": 2,
   "id": "075afe47",
   "metadata": {},
   "outputs": [],
   "source": [
    "#Edge Case"
   ]
  },
  {
   "cell_type": "code",
   "execution_count": 3,
   "id": "c1762ccf",
   "metadata": {},
   "outputs": [],
   "source": [
    "# Time Complexity  => O(n)\n",
    "# Space Complexity => O(1)"
   ]
  },
  {
   "cell_type": "code",
   "execution_count": 4,
   "id": "221b24dc",
   "metadata": {},
   "outputs": [],
   "source": [
    "# Bit manipulation => Logic Gates"
   ]
  },
  {
   "cell_type": "code",
   "execution_count": 6,
   "id": "9d15d6ae",
   "metadata": {},
   "outputs": [],
   "source": [
    "myList = [1,1,2,2,3]\n",
    "\n",
    "def singleNumber(List):\n",
    "    result = 0\n",
    "    for num in List:\n",
    "        result = num ^ result\n",
    "    return result"
   ]
  },
  {
   "cell_type": "code",
   "execution_count": 7,
   "id": "4dfc3116",
   "metadata": {},
   "outputs": [
    {
     "data": {
      "text/plain": [
       "3"
      ]
     },
     "execution_count": 7,
     "metadata": {},
     "output_type": "execute_result"
    }
   ],
   "source": [
    "singleNumber(myList)"
   ]
  },
  {
   "cell_type": "code",
   "execution_count": 8,
   "id": "77cb5fad",
   "metadata": {},
   "outputs": [],
   "source": [
    "mySecondList = [3,5,8,6,6,3,5]"
   ]
  },
  {
   "cell_type": "code",
   "execution_count": 9,
   "id": "3920572a",
   "metadata": {},
   "outputs": [
    {
     "data": {
      "text/plain": [
       "8"
      ]
     },
     "execution_count": 9,
     "metadata": {},
     "output_type": "execute_result"
    }
   ],
   "source": [
    "singleNumber(mySecondList)"
   ]
  },
  {
   "cell_type": "code",
   "execution_count": null,
   "id": "b8f66306",
   "metadata": {},
   "outputs": [],
   "source": []
  }
 ],
 "metadata": {
  "kernelspec": {
   "display_name": "Python 3 (ipykernel)",
   "language": "python",
   "name": "python3"
  },
  "language_info": {
   "codemirror_mode": {
    "name": "ipython",
    "version": 3
   },
   "file_extension": ".py",
   "mimetype": "text/x-python",
   "name": "python",
   "nbconvert_exporter": "python",
   "pygments_lexer": "ipython3",
   "version": "3.11.5"
  }
 },
 "nbformat": 4,
 "nbformat_minor": 5
}
