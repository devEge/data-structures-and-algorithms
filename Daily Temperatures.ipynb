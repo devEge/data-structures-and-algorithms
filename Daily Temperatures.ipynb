{
 "cells": [
  {
   "cell_type": "code",
   "execution_count": 1,
   "id": "5c9e9186",
   "metadata": {},
   "outputs": [],
   "source": [
    "temperatures = [73,74,75,71,69,72,76,73]"
   ]
  },
  {
   "cell_type": "code",
   "execution_count": 2,
   "id": "23fbcbd9",
   "metadata": {},
   "outputs": [],
   "source": [
    "def solution(temperatures: list):\n",
    "    result = [0] * len(temperatures)\n",
    "    myStack = []\n",
    "    \n",
    "    for ix, temperature in enumerate(temperatures):\n",
    "        while myStack and temperature > myStack[-1][0]:\n",
    "            stackTemp, stackIndex = myStack.pop()\n",
    "            result[stackIndex] = ix - stackIndex\n",
    "            \n",
    "        myStack.append([temperature, ix])\n",
    "    return result"
   ]
  },
  {
   "cell_type": "code",
   "execution_count": 3,
   "id": "620a1866",
   "metadata": {},
   "outputs": [
    {
     "data": {
      "text/plain": [
       "[1, 1, 4, 2, 1, 1, 0, 0]"
      ]
     },
     "execution_count": 3,
     "metadata": {},
     "output_type": "execute_result"
    }
   ],
   "source": [
    "solution(temperatures)"
   ]
  },
  {
   "cell_type": "code",
   "execution_count": null,
   "id": "74e8967d",
   "metadata": {},
   "outputs": [],
   "source": []
  }
 ],
 "metadata": {
  "kernelspec": {
   "display_name": "Python 3 (ipykernel)",
   "language": "python",
   "name": "python3"
  },
  "language_info": {
   "codemirror_mode": {
    "name": "ipython",
    "version": 3
   },
   "file_extension": ".py",
   "mimetype": "text/x-python",
   "name": "python",
   "nbconvert_exporter": "python",
   "pygments_lexer": "ipython3",
   "version": "3.11.5"
  }
 },
 "nbformat": 4,
 "nbformat_minor": 5
}
