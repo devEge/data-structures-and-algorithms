{
 "cells": [
  {
   "cell_type": "code",
   "execution_count": 1,
   "id": "0aae84fd",
   "metadata": {},
   "outputs": [
    {
     "data": {
      "text/plain": [
       "'\\nDeque()\\n\\naddRight()\\naddLeft()\\n\\nremoveRight()\\nremoveLeft()\\n\\nisEmpty()\\nsize()\\n\\n'"
      ]
     },
     "execution_count": 1,
     "metadata": {},
     "output_type": "execute_result"
    }
   ],
   "source": [
    "'''\n",
    "Deque()\n",
    "\n",
    "addRight()\n",
    "addLeft()\n",
    "\n",
    "removeRight()\n",
    "removeLeft()\n",
    "\n",
    "isEmpty()\n",
    "size()\n",
    "\n",
    "'''"
   ]
  },
  {
   "cell_type": "code",
   "execution_count": 2,
   "id": "ad533c80",
   "metadata": {},
   "outputs": [],
   "source": [
    "class Deque():\n",
    "    def __init__(self):\n",
    "        self.elements = []\n",
    "        \n",
    "    def isEmpty(self):\n",
    "        return self.elements == []\n",
    "    \n",
    "    def addLeft(self, element):\n",
    "        self.elements.insert(0, element)\n",
    "    \n",
    "    def addRight(self, element):\n",
    "        self.elements.append(element)\n",
    "    \n",
    "    def removeLeft(self):\n",
    "        return self.elements.pop(0)\n",
    "    \n",
    "    def removeRight(self):\n",
    "        return self.elements.pop()\n",
    "    \n",
    "    def size(self):\n",
    "        return len(self.elements)"
   ]
  },
  {
   "cell_type": "code",
   "execution_count": 3,
   "id": "7fd15bac",
   "metadata": {},
   "outputs": [],
   "source": [
    "myDeque = Deque()"
   ]
  },
  {
   "cell_type": "code",
   "execution_count": 4,
   "id": "fc954cc0",
   "metadata": {},
   "outputs": [],
   "source": [
    "myDeque.addRight(10)"
   ]
  },
  {
   "cell_type": "code",
   "execution_count": 5,
   "id": "227b1443",
   "metadata": {},
   "outputs": [],
   "source": [
    "myDeque.addRight(20)"
   ]
  },
  {
   "cell_type": "code",
   "execution_count": 6,
   "id": "f14d58c2",
   "metadata": {},
   "outputs": [],
   "source": [
    "#[10,20]"
   ]
  },
  {
   "cell_type": "code",
   "execution_count": 7,
   "id": "87a6e7b1",
   "metadata": {},
   "outputs": [],
   "source": [
    "myDeque.addLeft(30)"
   ]
  },
  {
   "cell_type": "code",
   "execution_count": 8,
   "id": "b123d20f",
   "metadata": {},
   "outputs": [],
   "source": [
    "#[30,10,20]"
   ]
  },
  {
   "cell_type": "code",
   "execution_count": 9,
   "id": "94a91683",
   "metadata": {},
   "outputs": [],
   "source": [
    "myDeque.addLeft(40)"
   ]
  },
  {
   "cell_type": "code",
   "execution_count": 10,
   "id": "f870fa53",
   "metadata": {},
   "outputs": [],
   "source": [
    "#[40,30,10,20]"
   ]
  },
  {
   "cell_type": "code",
   "execution_count": 11,
   "id": "d5658c80",
   "metadata": {},
   "outputs": [],
   "source": [
    "myDeque.addRight(50)"
   ]
  },
  {
   "cell_type": "code",
   "execution_count": 12,
   "id": "d456192a",
   "metadata": {},
   "outputs": [],
   "source": [
    "#[40,30,10,20,50]"
   ]
  },
  {
   "cell_type": "code",
   "execution_count": 13,
   "id": "b3aff324",
   "metadata": {},
   "outputs": [
    {
     "data": {
      "text/plain": [
       "5"
      ]
     },
     "execution_count": 13,
     "metadata": {},
     "output_type": "execute_result"
    }
   ],
   "source": [
    "myDeque.size()"
   ]
  },
  {
   "cell_type": "code",
   "execution_count": 14,
   "id": "36e0249e",
   "metadata": {},
   "outputs": [
    {
     "data": {
      "text/plain": [
       "40"
      ]
     },
     "execution_count": 14,
     "metadata": {},
     "output_type": "execute_result"
    }
   ],
   "source": [
    "myDeque.removeLeft()"
   ]
  },
  {
   "cell_type": "code",
   "execution_count": 15,
   "id": "e9f26e7b",
   "metadata": {},
   "outputs": [
    {
     "data": {
      "text/plain": [
       "30"
      ]
     },
     "execution_count": 15,
     "metadata": {},
     "output_type": "execute_result"
    }
   ],
   "source": [
    "myDeque.removeLeft()"
   ]
  },
  {
   "cell_type": "code",
   "execution_count": 16,
   "id": "e8734546",
   "metadata": {},
   "outputs": [
    {
     "data": {
      "text/plain": [
       "50"
      ]
     },
     "execution_count": 16,
     "metadata": {},
     "output_type": "execute_result"
    }
   ],
   "source": [
    "myDeque.removeRight()"
   ]
  },
  {
   "cell_type": "code",
   "execution_count": 17,
   "id": "b96e4344",
   "metadata": {},
   "outputs": [
    {
     "data": {
      "text/plain": [
       "2"
      ]
     },
     "execution_count": 17,
     "metadata": {},
     "output_type": "execute_result"
    }
   ],
   "source": [
    "myDeque.size()"
   ]
  },
  {
   "cell_type": "code",
   "execution_count": null,
   "id": "1e85e75a",
   "metadata": {},
   "outputs": [],
   "source": []
  }
 ],
 "metadata": {
  "kernelspec": {
   "display_name": "Python 3 (ipykernel)",
   "language": "python",
   "name": "python3"
  },
  "language_info": {
   "codemirror_mode": {
    "name": "ipython",
    "version": 3
   },
   "file_extension": ".py",
   "mimetype": "text/x-python",
   "name": "python",
   "nbconvert_exporter": "python",
   "pygments_lexer": "ipython3",
   "version": "3.11.5"
  }
 },
 "nbformat": 4,
 "nbformat_minor": 5
}
