{
 "cells": [
  {
   "cell_type": "code",
   "execution_count": 1,
   "id": "079a43f1",
   "metadata": {},
   "outputs": [],
   "source": [
    "#Node -> Linked List"
   ]
  },
  {
   "cell_type": "code",
   "execution_count": 2,
   "id": "7a0337f8",
   "metadata": {},
   "outputs": [],
   "source": [
    "#Singly Linked List"
   ]
  },
  {
   "cell_type": "code",
   "execution_count": 3,
   "id": "0f3a9ebd",
   "metadata": {},
   "outputs": [],
   "source": [
    "class Node():\n",
    "    def __init__(self, value):\n",
    "        self.value = value\n",
    "        self.nextNode = None"
   ]
  },
  {
   "cell_type": "code",
   "execution_count": 4,
   "id": "634358c7",
   "metadata": {},
   "outputs": [],
   "source": [
    "firstNode = Node(10)"
   ]
  },
  {
   "cell_type": "code",
   "execution_count": 5,
   "id": "6f3506d1",
   "metadata": {},
   "outputs": [],
   "source": [
    "secondNode = Node(20)"
   ]
  },
  {
   "cell_type": "code",
   "execution_count": 6,
   "id": "62f052b6",
   "metadata": {},
   "outputs": [],
   "source": [
    "thirdNote = Node(30)"
   ]
  },
  {
   "cell_type": "code",
   "execution_count": 7,
   "id": "272ccbc9",
   "metadata": {},
   "outputs": [],
   "source": [
    "firstNode.nextNode = secondNode"
   ]
  },
  {
   "cell_type": "code",
   "execution_count": 8,
   "id": "f5fb46ed",
   "metadata": {},
   "outputs": [],
   "source": [
    "secondNode.nextNode = thirdNote"
   ]
  },
  {
   "cell_type": "code",
   "execution_count": 9,
   "id": "10a91621",
   "metadata": {},
   "outputs": [
    {
     "data": {
      "text/plain": [
       "<__main__.Node at 0x25904f19d50>"
      ]
     },
     "execution_count": 9,
     "metadata": {},
     "output_type": "execute_result"
    }
   ],
   "source": [
    "firstNode.nextNode"
   ]
  },
  {
   "cell_type": "code",
   "execution_count": 10,
   "id": "4976b877",
   "metadata": {},
   "outputs": [
    {
     "data": {
      "text/plain": [
       "20"
      ]
     },
     "execution_count": 10,
     "metadata": {},
     "output_type": "execute_result"
    }
   ],
   "source": [
    "firstNode.nextNode.value"
   ]
  },
  {
   "cell_type": "code",
   "execution_count": 11,
   "id": "adb450a0",
   "metadata": {},
   "outputs": [
    {
     "data": {
      "text/plain": [
       "30"
      ]
     },
     "execution_count": 11,
     "metadata": {},
     "output_type": "execute_result"
    }
   ],
   "source": [
    "firstNode.nextNode.nextNode.value"
   ]
  },
  {
   "cell_type": "code",
   "execution_count": 12,
   "id": "95cb36fa",
   "metadata": {},
   "outputs": [],
   "source": [
    "class DoublyNode():\n",
    "    \n",
    "    def __init__(self, value):\n",
    "        self.value = value\n",
    "        self.nextNode = None\n",
    "        self.prevNode = None"
   ]
  },
  {
   "cell_type": "code",
   "execution_count": 13,
   "id": "df44c05b",
   "metadata": {},
   "outputs": [],
   "source": [
    "x = DoublyNode(5)\n",
    "y = DoublyNode(10)\n",
    "z = DoublyNode(15)"
   ]
  },
  {
   "cell_type": "code",
   "execution_count": 14,
   "id": "f9f0ed81",
   "metadata": {},
   "outputs": [],
   "source": [
    "x.nextNode = y\n",
    "y.prevNode = x\n",
    "\n",
    "y.nextNode = z\n",
    "z.prevNode = y"
   ]
  },
  {
   "cell_type": "code",
   "execution_count": 15,
   "id": "e58cf838",
   "metadata": {},
   "outputs": [
    {
     "data": {
      "text/plain": [
       "15"
      ]
     },
     "execution_count": 15,
     "metadata": {},
     "output_type": "execute_result"
    }
   ],
   "source": [
    "x.nextNode.nextNode.value"
   ]
  },
  {
   "cell_type": "code",
   "execution_count": 16,
   "id": "94ff052c",
   "metadata": {},
   "outputs": [
    {
     "data": {
      "text/plain": [
       "5"
      ]
     },
     "execution_count": 16,
     "metadata": {},
     "output_type": "execute_result"
    }
   ],
   "source": [
    "z.prevNode.prevNode.value"
   ]
  },
  {
   "cell_type": "code",
   "execution_count": null,
   "id": "cc546df4",
   "metadata": {},
   "outputs": [],
   "source": []
  }
 ],
 "metadata": {
  "kernelspec": {
   "display_name": "Python 3 (ipykernel)",
   "language": "python",
   "name": "python3"
  },
  "language_info": {
   "codemirror_mode": {
    "name": "ipython",
    "version": 3
   },
   "file_extension": ".py",
   "mimetype": "text/x-python",
   "name": "python",
   "nbconvert_exporter": "python",
   "pygments_lexer": "ipython3",
   "version": "3.11.5"
  }
 },
 "nbformat": 4,
 "nbformat_minor": 5
}
